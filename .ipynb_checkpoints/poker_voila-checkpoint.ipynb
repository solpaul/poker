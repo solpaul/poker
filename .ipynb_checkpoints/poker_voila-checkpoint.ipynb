{
 "cells": [
  {
   "cell_type": "code",
   "execution_count": 1,
   "metadata": {},
   "outputs": [],
   "source": [
    "# !jupyter serverextension enable voila --sys-prefix\n",
    "# !voila --enable_nbextensions=True"
   ]
  },
  {
   "cell_type": "code",
   "execution_count": 2,
   "metadata": {},
   "outputs": [],
   "source": [
    "from ipywidgets import widgets, VBox\n",
    "from PIL import ImageGrab\n",
    "import pyautogui\n",
    "import win32gui\n",
    "import time\n",
    "import numpy as np\n",
    "from IPython.display import clear_output\n",
    "import re\n",
    "import requests\n",
    "import lxml.html as lh\n",
    "import asyncio"
   ]
  },
  {
   "cell_type": "code",
   "execution_count": 3,
   "metadata": {},
   "outputs": [],
   "source": [
    "tables = {}"
   ]
  },
  {
   "cell_type": "code",
   "execution_count": 4,
   "metadata": {},
   "outputs": [],
   "source": [
    "class HaltableExecutor:\n",
    "\n",
    "    def __init__(self, togglebutton):\n",
    "        self._togglebutton = togglebutton\n",
    "\n",
    "    async def my_code(self):\n",
    "        # This is your user code\n",
    "        while True:\n",
    "            get_tables()\n",
    "            if self._togglebutton.value:\n",
    "                drop_table.disabled = True\n",
    "                btn_tables.disabled = True\n",
    "                \n",
    "                if active_table_no in tables:\n",
    "                    active_table = tables[active_table_no]\n",
    "                    lbl_table.value = active_table\n",
    "\n",
    "                    blinds = list(map(int, re.search(r'\\d+\\/\\d+', active_table).group().split('/')))\n",
    "                    lbl_blinds.value = 'Blinds are %d/%d' %(blinds[0], blinds[1])\n",
    "                    lbl_player1.value = 'Player 1 stack %d' % 600\n",
    "                    lbl_player2.value = 'Player 2 stack %d' % 600\n",
    "                    lbl_player3.value = 'Player 3 stack %d' % 600\n",
    "                    lbl_button.value = 'Player %d is the button' % 1\n",
    "                \n",
    "                else: btn_on_off.value = False\n",
    "                \n",
    "            else:\n",
    "                drop_table.disabled = False\n",
    "                btn_tables.disabled = False\n",
    "                lbl_blinds.value = ''\n",
    "                lbl_player1.value = ''\n",
    "                lbl_player2.value = ''\n",
    "                lbl_player3.value = ''\n",
    "                lbl_button.value = ''\n",
    "                \n",
    "                if len(tables) > 0:\n",
    "                    active_table_no = list(tables.keys())[list(tables.values()).index(drop_table.value)]\n",
    "                \n",
    "            await asyncio.sleep(0.1)  # use this to temporarily give up control of the event loop to allow scheduling checkbox changes\n",
    "        \n",
    "    def start(self):\n",
    "        print('starting')\n",
    "        asyncio.ensure_future(self.my_code())"
   ]
  },
  {
   "cell_type": "code",
   "execution_count": 5,
   "metadata": {},
   "outputs": [],
   "source": [
    "def windowEnumerationHandler(hwnd, top_windows):\n",
    "    top_windows.append((hwnd, win32gui.GetWindowText(hwnd)))\n",
    "\n",
    "\n",
    "def get_tables():\n",
    "    tables.clear()\n",
    "    top_windows = []\n",
    "    win32gui.EnumWindows(windowEnumerationHandler, top_windows)\n",
    "    for i in top_windows:\n",
    "        if \"tournament\" and \"table\" in i[1].lower():\n",
    "            tables[i[0]] = i[1]\n",
    "    \n",
    "    if len(tables) > 0:\n",
    "        drop_table.options = list(tables.values())\n",
    "    \n",
    "    else: drop_table.options = ['No open tables']\n",
    "    \n",
    "def get_table(table_id=None):\n",
    "    tables.clear()\n",
    "    top_windows = []\n",
    "    win32gui.EnumWindows(windowEnumerationHandler, top_windows)\n",
    "    for i in top_windows:\n",
    "        if \"tournament\" and \"table\" in i[1].lower():\n",
    "            tables[i[1]] = i[0]\n",
    "        drop_table.options = list(tables.keys())\n",
    "        \n",
    "            \n",
    "    if table_id == None:\n",
    "        if len(tables) == 0:\n",
    "            lbl_table.value = 'No tables!'\n",
    "            return False\n",
    "        else: \n",
    "            return tables\n",
    "    \n",
    "    else:\n",
    "        for table in tables:\n",
    "            if table[0] == table_id:\n",
    "                return table[1]\n",
    "        \n",
    "        print('Table no longer available')\n",
    "        return False"
   ]
  },
  {
   "cell_type": "code",
   "execution_count": 6,
   "metadata": {},
   "outputs": [],
   "source": [
    "btn_on_off = widgets.ToggleButton(description='Tracking On/Off')"
   ]
  },
  {
   "cell_type": "code",
   "execution_count": 7,
   "metadata": {},
   "outputs": [],
   "source": [
    "drop_table = widgets.Dropdown(options=[], \n",
    "                              value=None, # can use tuples of table_no, table_names here i fyou want\n",
    "                              description='Select Table:',)"
   ]
  },
  {
   "cell_type": "code",
   "execution_count": 8,
   "metadata": {},
   "outputs": [],
   "source": [
    "btn_tables = widgets.Button(description='Refresh Tables')"
   ]
  },
  {
   "cell_type": "code",
   "execution_count": 9,
   "metadata": {},
   "outputs": [],
   "source": [
    "lbl_table = widgets.Label()\n",
    "lbl_blinds = widgets.Label()\n",
    "lbl_player1 = widgets.Label()\n",
    "lbl_player2 = widgets.Label()\n",
    "lbl_player3 = widgets.Label()\n",
    "lbl_button = widgets.Label()"
   ]
  },
  {
   "cell_type": "code",
   "execution_count": 10,
   "metadata": {},
   "outputs": [],
   "source": [
    "def on_button_clicked(click):\n",
    "    get_tables()"
   ]
  },
  {
   "cell_type": "code",
   "execution_count": 11,
   "metadata": {},
   "outputs": [],
   "source": [
    "def on_select(change):\n",
    "    lbl_table.value = drop_table.value"
   ]
  },
  {
   "cell_type": "code",
   "execution_count": 12,
   "metadata": {},
   "outputs": [],
   "source": [
    "btn_tables.on_click(on_button_clicked)\n",
    "drop_table.observe(on_select, 'value')"
   ]
  },
  {
   "cell_type": "code",
   "execution_count": 13,
   "metadata": {},
   "outputs": [],
   "source": [
    "get_tables()"
   ]
  },
  {
   "cell_type": "code",
   "execution_count": 14,
   "metadata": {
    "scrolled": true
   },
   "outputs": [
    {
     "data": {
      "application/vnd.jupyter.widget-view+json": {
       "model_id": "37f73bd9be2a4f939a0b15a4572d82b1",
       "version_major": 2,
       "version_minor": 0
      },
      "text/plain": [
       "VBox(children=(ToggleButton(value=False, description='Tracking On/Off'), Button(description='Refresh Tables', …"
      ]
     },
     "metadata": {},
     "output_type": "display_data"
    },
    {
     "name": "stderr",
     "output_type": "stream",
     "text": [
      "Task exception was never retrieved\n",
      "future: <Task finished coro=<HaltableExecutor.my_code() done, defined at <ipython-input-4-d411d4c8dc3f>:6> exception=UnboundLocalError(\"local variable 'active_table_no' referenced before assignment\")>\n",
      "Traceback (most recent call last):\n",
      "  File \"<ipython-input-4-d411d4c8dc3f>\", line 14, in my_code\n",
      "    if active_table_no in tables:\n",
      "UnboundLocalError: local variable 'active_table_no' referenced before assignment\n"
     ]
    }
   ],
   "source": [
    "display(VBox([btn_on_off, \n",
    "              btn_tables, \n",
    "              widgets.HTML('<br>'), \n",
    "              drop_table, \n",
    "              widgets.HTML('<br>'), \n",
    "              lbl_table,\n",
    "              lbl_blinds,\n",
    "              lbl_player1,\n",
    "              lbl_player2,\n",
    "              lbl_player3,\n",
    "              lbl_button]))"
   ]
  },
  {
   "cell_type": "code",
   "execution_count": 15,
   "metadata": {},
   "outputs": [
    {
     "name": "stdout",
     "output_type": "stream",
     "text": [
      "starting\n"
     ]
    }
   ],
   "source": [
    "exe = HaltableExecutor(btn_on_off)\n",
    "exe.start()"
   ]
  }
 ],
 "metadata": {
  "kernelspec": {
   "display_name": "Python 3",
   "language": "python",
   "name": "python3"
  },
  "language_info": {
   "codemirror_mode": {
    "name": "ipython",
    "version": 3
   },
   "file_extension": ".py",
   "mimetype": "text/x-python",
   "name": "python",
   "nbconvert_exporter": "python",
   "pygments_lexer": "ipython3",
   "version": "3.7.4"
  }
 },
 "nbformat": 4,
 "nbformat_minor": 2
}
