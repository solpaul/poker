{
 "cells": [
  {
   "cell_type": "code",
   "execution_count": 1,
   "metadata": {},
   "outputs": [],
   "source": [
    "# !jupyter serverextension enable voila --sys-prefix\n",
    "# !voila --enable_nbextensions=True"
   ]
  },
  {
   "cell_type": "code",
   "execution_count": 2,
   "metadata": {},
   "outputs": [],
   "source": [
    "from ipywidgets import widgets, VBox\n",
    "from PIL import ImageGrab\n",
    "import pyautogui\n",
    "import win32gui\n",
    "import time\n",
    "import numpy as np\n",
    "from IPython.display import clear_output\n",
    "import re\n",
    "import requests\n",
    "import lxml.html as lh\n",
    "import asyncio\n",
    "import pandas as pd\n",
    "import webbrowser"
   ]
  },
  {
   "cell_type": "markdown",
   "metadata": {},
   "source": [
    "# PokerStars Spin & Go Tracker"
   ]
  },
  {
   "cell_type": "code",
   "execution_count": 3,
   "metadata": {},
   "outputs": [],
   "source": [
    "tables = {}"
   ]
  },
  {
   "cell_type": "code",
   "execution_count": 4,
   "metadata": {},
   "outputs": [],
   "source": [
    "# df = pd.DataFrame(index=['Player 1', 'Player 2', 'Player 3'], columns=['Stack Size'])\n",
    "# blinds = [10,20]"
   ]
  },
  {
   "cell_type": "code",
   "execution_count": 5,
   "metadata": {},
   "outputs": [],
   "source": [
    "class HaltableExecutor:\n",
    "\n",
    "    def __init__(self, togglebutton):\n",
    "        self._togglebutton = togglebutton\n",
    "        self.blinds = []\n",
    "        self.stacks = []\n",
    "\n",
    "    async def my_code(self):\n",
    "        # This is your user code\n",
    "        active_table_no = 0\n",
    "        while True:\n",
    "            get_tables()\n",
    "            if self._togglebutton.value:\n",
    "                drop_table.disabled = True\n",
    "                btn_ranges.layout.visibility = 'visible'\n",
    "                \n",
    "                if active_table_no in tables:\n",
    "                    active_table = tables[active_table_no]\n",
    "                    lbl_table.value = active_table\n",
    "\n",
    "                    self.blinds = list(map(int, re.search(r'\\d+\\/\\d+', active_table).group().split('/')))\n",
    "                    lbl_blinds.value = 'Blinds are <b>%d</b>/<b>%d</b>' %(self.blinds[0], self.blinds[1])\n",
    "                    lbl_button.value = '<b>Player %d</b> is the button' % 1\n",
    "                    \n",
    "                    self.stacks = [150,350,450]\n",
    "                    \n",
    "                    lbl_player1.value = 'Player 1: <b>%d</b>' % self.stacks[0]\n",
    "                    lbl_player2.value = 'Player 2: <b>%d</b>' % self.stacks[1]\n",
    "                    lbl_player3.value = 'Player 3: <b>%d</b>' % self.stacks[2]\n",
    "                    \n",
    "                    for lbl in [lbl_blinds, lbl_button, lbl_player1, lbl_player2, lbl_player3]:\n",
    "                        lbl.layout.visibility = 'visible'\n",
    "                    \n",
    "#                     out.clear_output(wait=True)                    \n",
    "#                     with out: display(df)\n",
    "                    \n",
    "                else: btn_on_off.value = False\n",
    "                \n",
    "            else:\n",
    "                drop_table.disabled = False\n",
    "                \n",
    "                for lbl in [lbl_blinds, lbl_button, lbl_player1, lbl_player2, lbl_player3, btn_ranges]:\n",
    "                    lbl.layout.visibility = 'hidden'\n",
    "                \n",
    "#                 df.loc['Player 1'] = 0\n",
    "#                 df.loc['Player 2'] = 0\n",
    "#                 df.loc['Player 3'] = 0\n",
    "\n",
    "#                 out.clear_output(wait=True)                \n",
    "#                 with out: display(df)\n",
    "                \n",
    "                if len(tables) > 0:\n",
    "                    active_table_no = list(tables.keys())[list(tables.values()).index(drop_table.value)]\n",
    "                \n",
    "            await asyncio.sleep(0.1)  # use this to temporarily give up control of the event loop to allow scheduling checkbox changes\n",
    "        \n",
    "    def start(self):\n",
    "#         print('starting')\n",
    "        asyncio.ensure_future(self.my_code())"
   ]
  },
  {
   "cell_type": "code",
   "execution_count": 6,
   "metadata": {},
   "outputs": [],
   "source": [
    "def windowEnumerationHandler(hwnd, top_windows):\n",
    "    top_windows.append((hwnd, win32gui.GetWindowText(hwnd)))\n",
    "\n",
    "\n",
    "def get_tables():\n",
    "    tables.clear()\n",
    "    top_windows = []\n",
    "    win32gui.EnumWindows(windowEnumerationHandler, top_windows)\n",
    "    for i in top_windows:\n",
    "        if \"tournament\" and \"table\" in i[1].lower():\n",
    "            tables[i[0]] = i[1]\n",
    "    \n",
    "    if len(tables) > 0:\n",
    "        drop_table.options = list(tables.values())\n",
    "    \n",
    "    else: drop_table.options = ['No open tables']\n",
    "    \n",
    "def get_table(table_id=None):\n",
    "    tables.clear()\n",
    "    top_windows = []\n",
    "    win32gui.EnumWindows(windowEnumerationHandler, top_windows)\n",
    "    for i in top_windows:\n",
    "        if \"tournament\" and \"table\" in i[1].lower():\n",
    "            tables[i[1]] = i[0]\n",
    "        drop_table.options = list(tables.keys())\n",
    "        \n",
    "            \n",
    "    if table_id == None:\n",
    "        if len(tables) == 0:\n",
    "            lbl_table.value = 'No tables!'\n",
    "            return False\n",
    "        else: \n",
    "            return tables\n",
    "    \n",
    "    else:\n",
    "        for table in tables:\n",
    "            if table[0] == table_id:\n",
    "                return table[1]\n",
    "        \n",
    "        print('Table no longer available')\n",
    "        return False"
   ]
  },
  {
   "cell_type": "code",
   "execution_count": 7,
   "metadata": {},
   "outputs": [],
   "source": [
    "btn_on_off = widgets.ToggleButton(description='Tracking On/Off')"
   ]
  },
  {
   "cell_type": "code",
   "execution_count": 8,
   "metadata": {},
   "outputs": [],
   "source": [
    "drop_table = widgets.Dropdown(options=[], \n",
    "                              value=None, # can use tuples of table_no, table_names here i fyou want\n",
    "                              description='Select Table:',)"
   ]
  },
  {
   "cell_type": "code",
   "execution_count": 9,
   "metadata": {},
   "outputs": [],
   "source": [
    "btn_ranges = widgets.Button(description='Get Ranges')"
   ]
  },
  {
   "cell_type": "code",
   "execution_count": 10,
   "metadata": {},
   "outputs": [],
   "source": [
    "lbl_table = widgets.Label()\n",
    "lbl_blinds = widgets.HTML()\n",
    "lbl_player1 = widgets.HTML()\n",
    "lbl_player2 = widgets.HTML()\n",
    "lbl_player3 = widgets.HTML()\n",
    "lbl_button = widgets.HTML()"
   ]
  },
  {
   "cell_type": "code",
   "execution_count": 11,
   "metadata": {},
   "outputs": [],
   "source": [
    "# stacks = widgets.HTML(df.style.set_table_attributes('class=\"table\"').render())"
   ]
  },
  {
   "cell_type": "code",
   "execution_count": 12,
   "metadata": {},
   "outputs": [],
   "source": [
    "# def on_button_clicked(click):\n",
    "#     get_tables()"
   ]
  },
  {
   "cell_type": "code",
   "execution_count": 13,
   "metadata": {},
   "outputs": [],
   "source": [
    "def on_select(change):\n",
    "    lbl_table.value = drop_table.value"
   ]
  },
  {
   "cell_type": "code",
   "execution_count": 14,
   "metadata": {},
   "outputs": [],
   "source": [
    "def on_get_ranges(click):\n",
    "    s1, s2, s3 = exe.stacks\n",
    "    sb, bb = exe.blinds\n",
    "    \n",
    "    url = ('https://www.holdemresources.net/nashicm?action=calculate&s1=' + \n",
    "           str(s1) + '&s2=' + str(s2) + '&s3=' + str(s3) +\n",
    "           '&p1=70&p2=30&p3=0&sb=' + str(sb) + '&bb=' + str(bb) + '&ante=0')\n",
    "    webbrowser.open(url)"
   ]
  },
  {
   "cell_type": "code",
   "execution_count": 15,
   "metadata": {},
   "outputs": [],
   "source": [
    "out = widgets.Output()"
   ]
  },
  {
   "cell_type": "code",
   "execution_count": 16,
   "metadata": {},
   "outputs": [],
   "source": [
    "# btn_tables.on_click(on_button_clicked)\n",
    "drop_table.observe(on_select, 'value')\n",
    "btn_ranges.on_click(on_get_ranges)"
   ]
  },
  {
   "cell_type": "code",
   "execution_count": 17,
   "metadata": {},
   "outputs": [],
   "source": [
    "get_tables()"
   ]
  },
  {
   "cell_type": "code",
   "execution_count": 18,
   "metadata": {
    "scrolled": true
   },
   "outputs": [
    {
     "data": {
      "application/vnd.jupyter.widget-view+json": {
       "model_id": "66dbc83822d84caa832a8cc2b1571918",
       "version_major": 2,
       "version_minor": 0
      },
      "text/plain": [
       "VBox(children=(ToggleButton(value=False, description='Tracking On/Off'), HTML(value='<br>'), Dropdown(descript…"
      ]
     },
     "metadata": {},
     "output_type": "display_data"
    }
   ],
   "source": [
    "display(VBox([btn_on_off, \n",
    "              widgets.HTML('<br>'), \n",
    "              drop_table, \n",
    "              widgets.HTML('<br>'), \n",
    "              lbl_table,\n",
    "              lbl_blinds,\n",
    "#               out,\n",
    "              lbl_player1,\n",
    "              lbl_player2,\n",
    "              lbl_player3,\n",
    "              lbl_button,\n",
    "              btn_ranges\n",
    "              ]))\n"
   ]
  },
  {
   "cell_type": "code",
   "execution_count": 19,
   "metadata": {},
   "outputs": [],
   "source": [
    "exe = HaltableExecutor(btn_on_off)\n",
    "exe.start()"
   ]
  },
  {
   "cell_type": "code",
   "execution_count": null,
   "metadata": {},
   "outputs": [],
   "source": []
  }
 ],
 "metadata": {
  "kernelspec": {
   "display_name": "Python 3",
   "language": "python",
   "name": "python3"
  },
  "language_info": {
   "codemirror_mode": {
    "name": "ipython",
    "version": 3
   },
   "file_extension": ".py",
   "mimetype": "text/x-python",
   "name": "python",
   "nbconvert_exporter": "python",
   "pygments_lexer": "ipython3",
   "version": "3.7.4"
  }
 },
 "nbformat": 4,
 "nbformat_minor": 2
}
