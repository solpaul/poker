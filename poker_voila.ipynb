{
 "cells": [
  {
   "cell_type": "code",
   "execution_count": 1,
   "metadata": {},
   "outputs": [],
   "source": [
    "# !jupyter serverextension enable voila --sys-prefix\n",
    "# !voila --enable_nbextensions=True"
   ]
  },
  {
   "cell_type": "code",
   "execution_count": 2,
   "metadata": {},
   "outputs": [],
   "source": [
    "# !pip install pytesseract"
   ]
  },
  {
   "cell_type": "code",
   "execution_count": 3,
   "metadata": {},
   "outputs": [],
   "source": [
    "from ipywidgets import widgets, VBox\n",
    "from PIL import ImageGrab, Image, ImageOps\n",
    "import pyautogui\n",
    "import win32gui\n",
    "import time\n",
    "import numpy as np\n",
    "from IPython.display import clear_output\n",
    "import re\n",
    "import requests\n",
    "import lxml.html as lh\n",
    "import asyncio\n",
    "import pandas as pd\n",
    "import webbrowser\n",
    "import pytesseract"
   ]
  },
  {
   "cell_type": "code",
   "execution_count": 4,
   "metadata": {},
   "outputs": [],
   "source": [
    "pytesseract.pytesseract.tesseract_cmd = r'C:\\Users\\paul.solomon\\AppData\\Local\\Tesseract-OCR\\tesseract.exe'"
   ]
  },
  {
   "cell_type": "markdown",
   "metadata": {},
   "source": [
    "# PokerStars Spin & Go Tracker"
   ]
  },
  {
   "cell_type": "code",
   "execution_count": 5,
   "metadata": {},
   "outputs": [],
   "source": [
    "tables = {}"
   ]
  },
  {
   "cell_type": "code",
   "execution_count": 6,
   "metadata": {},
   "outputs": [],
   "source": [
    "# df = pd.DataFrame(index=['Player 1', 'Player 2', 'Player 3'], columns=['Stack Size'])\n",
    "# blinds = [10,20]"
   ]
  },
  {
   "cell_type": "code",
   "execution_count": 7,
   "metadata": {},
   "outputs": [],
   "source": [
    "class HaltableExecutor:\n",
    "\n",
    "    def __init__(self, togglebutton):\n",
    "        self._togglebutton = togglebutton\n",
    "        self.blinds = []\n",
    "        self.stacks = [0,0,0]\n",
    "\n",
    "    async def my_code(self):\n",
    "        # This is your user code\n",
    "        active_table_no = 0\n",
    "        button = ''\n",
    "        while True:\n",
    "            get_tables()\n",
    "            if self._togglebutton.value:\n",
    "                drop_table.disabled = True\n",
    "                btn_ranges.layout.visibility = 'visible'\n",
    "                \n",
    "                if active_table_no in tables:\n",
    "                    active_table = tables[active_table_no]\n",
    "                    lbl_table.value = active_table\n",
    "\n",
    "                    self.blinds = list(map(int, re.search(r'\\d+\\/\\d+', active_table).group().split('/')))\n",
    "                    lbl_blinds.value = 'Blinds are <b>%d</b>/<b>%d</b>' %(self.blinds[0], self.blinds[1])\n",
    "                    \n",
    "                    im = screenshot(active_table)\n",
    "                    pot = get_pot(im)\n",
    "                    if len(pot) > 0:\n",
    "                        pot_number = re.search('\\d+', pot).group()\n",
    "                        lbl_pot.value = str(pot)\n",
    "                    \n",
    "                        if int(pot_number) == int(self.blinds[0]) + int(self.blinds[1]):\n",
    "                            lbl_pot.value = 'calculating stacks'\n",
    "                            self.stacks = get_stacks(im)\n",
    "                            \n",
    "                            if 0 in self.stacks[:3]:\n",
    "                                if self.stacks[0] == 0:\n",
    "                                    if self.stacks[1] == int(self.blinds[0]):\n",
    "                                        button = '2'\n",
    "                                    else: button = '3'\n",
    "                                elif self.stacks[1] == 0:\n",
    "                                    if self.stacks[2] == int(self.blinds[0]):\n",
    "                                        button = '3'\n",
    "                                    else: button = '1'\n",
    "                                else:\n",
    "                                    if self.stacks[0] == int(self.blinds[0]):\n",
    "                                        button ='1'\n",
    "                                    else: button = '2'\n",
    "                            \n",
    "                            else:                               \n",
    "                                if self.stacks[3] == int(self.blinds[0]):\n",
    "                                    button = '3'\n",
    "                                elif self.stacks[3] == int(self.blinds[1]):\n",
    "                                    button = '2'\n",
    "                                else:\n",
    "                                    button = '1'\n",
    "                    \n",
    "                            lbl_player1.value = 'Player 1: <b>%d</b>' % self.stacks[0]\n",
    "                            lbl_player2.value = 'Player 2: <b>%d</b>' % self.stacks[1]\n",
    "                            lbl_player3.value = 'Player 3: <b>%d</b>' % self.stacks[2]\n",
    "\n",
    "                            lbl_button.value = '<b>Player %s</b> is the button' % button\n",
    "                    \n",
    "                    for lbl in [lbl_blinds, lbl_button, lbl_player1, lbl_player2, lbl_player3]:\n",
    "                        lbl.layout.visibility = 'visible'\n",
    "                    \n",
    "#                     out.clear_output(wait=True)                    \n",
    "#                     with out: display(df)\n",
    "                    \n",
    "                else: btn_on_off.value = False\n",
    "                \n",
    "            else:\n",
    "                drop_table.disabled = False\n",
    "                \n",
    "                for lbl in [lbl_blinds, lbl_button, lbl_player1, lbl_player2, lbl_player3, btn_ranges]:\n",
    "                    lbl.layout.visibility = 'hidden'\n",
    "                    \n",
    "                lbl_pot.value = ''\n",
    "                \n",
    "                self.stacks = [0,0,0]\n",
    "                \n",
    "#                 df.loc['Player 1'] = 0\n",
    "#                 df.loc['Player 2'] = 0\n",
    "#                 df.loc['Player 3'] = 0\n",
    "\n",
    "#                 out.clear_output(wait=True)                \n",
    "#                 with out: display(df)\n",
    "                \n",
    "                if len(tables) > 0:\n",
    "                    active_table_no = list(tables.keys())[list(tables.values()).index(drop_table.value)]\n",
    "                \n",
    "            await asyncio.sleep(0.1)  # use this to temporarily give up control of the event loop to allow scheduling checkbox changes\n",
    "        \n",
    "    def start(self):\n",
    "#         print('starting')\n",
    "        asyncio.ensure_future(self.my_code())"
   ]
  },
  {
   "cell_type": "code",
   "execution_count": 8,
   "metadata": {},
   "outputs": [],
   "source": [
    "def windowEnumerationHandler(hwnd, top_windows):\n",
    "    top_windows.append((hwnd, win32gui.GetWindowText(hwnd)))\n",
    "\n",
    "\n",
    "def get_tables():\n",
    "    tables.clear()\n",
    "    top_windows = []\n",
    "    win32gui.EnumWindows(windowEnumerationHandler, top_windows)\n",
    "    for i in top_windows:\n",
    "        if \"tournament\" and \"table\" in i[1].lower():\n",
    "            tables[i[0]] = i[1]\n",
    "    \n",
    "    if len(tables) > 0:\n",
    "        drop_table.options = list(tables.values())\n",
    "    \n",
    "    else: drop_table.options = ['No open tables']\n",
    "\n",
    "def screenshot(window_title=None):\n",
    "    if window_title:\n",
    "        hwnd = win32gui.FindWindow(None, window_title)\n",
    "        if hwnd:\n",
    "            win32gui.SetForegroundWindow(hwnd)\n",
    "            x, y, x1, y1 = win32gui.GetClientRect(hwnd)\n",
    "            x, y = win32gui.ClientToScreen(hwnd, (x, y))\n",
    "            x1, y1 = win32gui.ClientToScreen(hwnd, (x1 - x, y1 - y))\n",
    "            im = pyautogui.screenshot(region=(x, y, x1, y1))\n",
    "            return im\n",
    "        else:\n",
    "            print('Window not found!')\n",
    "    else:\n",
    "        im = pyautogui.screenshot()\n",
    "        return im\n",
    "    \n",
    "def get_pot(im):\n",
    "    area = (450, 190, 510, 210)\n",
    "    cropped_im = ImageOps.invert(im.crop(area))\n",
    "    return(pytesseract.image_to_string(cropped_im))\n",
    "\n",
    "def get_stacks(im):\n",
    "    area_1 = (480, 480, 520, 502)\n",
    "    area_2 = (105, 155, 145, 178)\n",
    "    area_3 = (810, 155, 850, 178)\n",
    "    area_4 = (435, 370, 465, 395)\n",
    "\n",
    "    \n",
    "    cropped_ims = [ImageOps.invert(im.crop(area)) for area in [area_1,\n",
    "                                                               area_2,\n",
    "                                                               area_3,\n",
    "                                                               area_4]]\n",
    "    \n",
    "    stacks = [pytesseract.image_to_string(cropped_im) for cropped_im in cropped_ims]\n",
    "\n",
    "    return [int(x or 0) for x in stacks]"
   ]
  },
  {
   "cell_type": "code",
   "execution_count": 9,
   "metadata": {},
   "outputs": [],
   "source": [
    "btn_on_off = widgets.ToggleButton(description='Tracking On/Off')"
   ]
  },
  {
   "cell_type": "code",
   "execution_count": 10,
   "metadata": {},
   "outputs": [],
   "source": [
    "drop_table = widgets.Dropdown(options=[], \n",
    "                              value=None, # can use tuples of table_no, table_names here i fyou want\n",
    "                              description='Select Table:',)"
   ]
  },
  {
   "cell_type": "code",
   "execution_count": 11,
   "metadata": {},
   "outputs": [],
   "source": [
    "btn_ranges = widgets.Button(description='Get Ranges')"
   ]
  },
  {
   "cell_type": "code",
   "execution_count": 12,
   "metadata": {},
   "outputs": [],
   "source": [
    "lbl_table = widgets.Label()\n",
    "lbl_blinds = widgets.HTML()\n",
    "lbl_player1 = widgets.HTML()\n",
    "lbl_player2 = widgets.HTML()\n",
    "lbl_player3 = widgets.HTML()\n",
    "lbl_button = widgets.HTML()\n",
    "\n",
    "lbl_pot = widgets.Label()"
   ]
  },
  {
   "cell_type": "code",
   "execution_count": 13,
   "metadata": {},
   "outputs": [],
   "source": [
    "# stacks = widgets.HTML(df.style.set_table_attributes('class=\"table\"').render())"
   ]
  },
  {
   "cell_type": "code",
   "execution_count": 14,
   "metadata": {},
   "outputs": [],
   "source": [
    "# def on_button_clicked(click):\n",
    "#     get_tables()"
   ]
  },
  {
   "cell_type": "code",
   "execution_count": 15,
   "metadata": {},
   "outputs": [],
   "source": [
    "def on_select(change):\n",
    "    lbl_table.value = drop_table.value"
   ]
  },
  {
   "cell_type": "code",
   "execution_count": 16,
   "metadata": {},
   "outputs": [],
   "source": [
    "def on_get_ranges(click):\n",
    "    s1, s2, s3 = exe.stacks\n",
    "    sb, bb = exe.blinds\n",
    "    \n",
    "    url = ('https://www.holdemresources.net/nashicm?action=calculate&s1=' + \n",
    "           str(s1) + '&s2=' + str(s2) + '&s3=' + str(s3) +\n",
    "           '&p1=70&p2=30&p3=0&sb=' + str(sb) + '&bb=' + str(bb) + '&ante=0')\n",
    "    webbrowser.open(url)"
   ]
  },
  {
   "cell_type": "code",
   "execution_count": 17,
   "metadata": {},
   "outputs": [],
   "source": [
    "out = widgets.Output()"
   ]
  },
  {
   "cell_type": "code",
   "execution_count": 18,
   "metadata": {},
   "outputs": [],
   "source": [
    "# btn_tables.on_click(on_button_clicked)\n",
    "drop_table.observe(on_select, 'value')\n",
    "btn_ranges.on_click(on_get_ranges)"
   ]
  },
  {
   "cell_type": "code",
   "execution_count": 19,
   "metadata": {},
   "outputs": [],
   "source": [
    "get_tables()"
   ]
  },
  {
   "cell_type": "code",
   "execution_count": 20,
   "metadata": {
    "scrolled": true
   },
   "outputs": [
    {
     "data": {
      "application/vnd.jupyter.widget-view+json": {
       "model_id": "f7a103502bab4b93a0e4fdcb11662749",
       "version_major": 2,
       "version_minor": 0
      },
      "text/plain": [
       "VBox(children=(ToggleButton(value=False, description='Tracking On/Off'), HTML(value='<br>'), Dropdown(descript…"
      ]
     },
     "metadata": {},
     "output_type": "display_data"
    }
   ],
   "source": [
    "display(VBox([btn_on_off, \n",
    "              widgets.HTML('<br>'), \n",
    "              drop_table, \n",
    "              widgets.HTML('<br>'), \n",
    "              lbl_table,\n",
    "              lbl_blinds,\n",
    "#               out,\n",
    "              lbl_player1,\n",
    "              lbl_player2,\n",
    "              lbl_player3,\n",
    "              lbl_button,\n",
    "              btn_ranges,\n",
    "              lbl_pot\n",
    "              ]))\n"
   ]
  },
  {
   "cell_type": "code",
   "execution_count": 21,
   "metadata": {},
   "outputs": [],
   "source": [
    "exe = HaltableExecutor(btn_on_off)\n",
    "exe.start()"
   ]
  },
  {
   "cell_type": "code",
   "execution_count": null,
   "metadata": {},
   "outputs": [],
   "source": []
  }
 ],
 "metadata": {
  "kernelspec": {
   "display_name": "Python 3",
   "language": "python",
   "name": "python3"
  },
  "language_info": {
   "codemirror_mode": {
    "name": "ipython",
    "version": 3
   },
   "file_extension": ".py",
   "mimetype": "text/x-python",
   "name": "python",
   "nbconvert_exporter": "python",
   "pygments_lexer": "ipython3",
   "version": "3.7.4"
  }
 },
 "nbformat": 4,
 "nbformat_minor": 2
}
